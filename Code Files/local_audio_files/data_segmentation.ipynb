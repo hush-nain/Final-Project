{
 "cells": [
  {
   "cell_type": "code",
   "execution_count": null,
   "id": "e851b0d0",
   "metadata": {},
   "outputs": [
    {
     "name": "stderr",
     "output_type": "stream",
     "text": [
      "d:\\FYP\\Final Project\\myenv\\Lib\\site-packages\\pydub\\utils.py:170: RuntimeWarning: Couldn't find ffmpeg or avconv - defaulting to ffmpeg, but may not work\n",
      "  warn(\"Couldn't find ffmpeg or avconv - defaulting to ffmpeg, but may not work\", RuntimeWarning)\n"
     ]
    },
    {
     "name": "stdout",
     "output_type": "stream",
     "text": [
      "✅ Segmentation complete. Files saved in: D:/FYP\\Datasets\\Drone Datasets\\Acoustic Print Dataset_Segmented\n"
     ]
    }
   ],
   "source": [
    "import os\n",
    "from pydub import AudioSegment\n",
    "\n",
    "# Input and Output folders\n",
    "input_folder = r\"D:/FYP\\Datasets\\Drone Datasets\\Acoustic Print Dataset\"\n",
    "output_folder = r\"D:/FYP\\Datasets\\Drone Datasets\\Acoustic Print Dataset_Segmented\"\n",
    "\n",
    "# Create output folder if it doesn't exist\n",
    "os.makedirs(output_folder, exist_ok=True)\n",
    "\n",
    "# Loop through each file in the input folder\n",
    "for filename in os.listdir(input_folder):\n",
    "    if filename.endswith(\".wav\"):\n",
    "        file_path = os.path.join(input_folder, filename)\n",
    "        audio = AudioSegment.from_wav(file_path)\n",
    "\n",
    "        duration_ms = len(audio)  # duration in milliseconds\n",
    "\n",
    "        if duration_ms <= 1000:\n",
    "            # Save file as it is\n",
    "            output_path = os.path.join(output_folder, filename)\n",
    "            audio.export(output_path, format=\"wav\")\n",
    "        else:\n",
    "            # Segment into 1 sec (1000 ms) chunks\n",
    "            for i in range(0, duration_ms, 1000):\n",
    "                segment = audio[i:i+1000]  # take 1 second\n",
    "                segment_name = f\"{os.path.splitext(filename)[0]}_part{i//1000 + 1}.wav\"\n",
    "                output_path = os.path.join(output_folder, segment_name)\n",
    "                segment.export(output_path, format=\"wav\")\n",
    "\n",
    "print(\"✅ Segmentation complete. Files saved in:\", output_folder)\n"
   ]
  },
  {
   "cell_type": "code",
   "execution_count": 2,
   "id": "e88a12dd",
   "metadata": {},
   "outputs": [
    {
     "name": "stdout",
     "output_type": "stream",
     "text": [
      "✅ Segmentation complete. Files saved in: D:/FYP\\Datasets\\Drone Datasets/Hugging Face Drone Audio Dataset_Segmented\n"
     ]
    }
   ],
   "source": [
    "# Input and Output folders\n",
    "input_folder = r\"D:/FYP\\Datasets\\Drone Datasets\\drone-audio-detection-samples hf\"\n",
    "output_folder = r\"D:/FYP\\Datasets\\Drone Datasets/Hugging Face Drone Audio Dataset_Segmented\"\n",
    "\n",
    "# Create output folder if it doesn't exist\n",
    "os.makedirs(output_folder, exist_ok=True)\n",
    "\n",
    "# Loop through each file in the input folder\n",
    "for filename in os.listdir(input_folder):\n",
    "    if filename.endswith(\".wav\"):\n",
    "        file_path = os.path.join(input_folder, filename)\n",
    "        audio = AudioSegment.from_wav(file_path)\n",
    "\n",
    "        duration_ms = len(audio)  # duration in milliseconds\n",
    "\n",
    "        if duration_ms <= 1000:\n",
    "            # Save file as it is\n",
    "            output_path = os.path.join(output_folder, filename)\n",
    "            audio.export(output_path, format=\"wav\")\n",
    "        else:\n",
    "            # Segment into 1 sec (1000 ms) chunks\n",
    "            for i in range(0, duration_ms, 1000):\n",
    "                segment = audio[i:i+1000]  # take 1 second\n",
    "                segment_name = f\"{os.path.splitext(filename)[0]}_part{i//1000 + 1}.wav\"\n",
    "                output_path = os.path.join(output_folder, segment_name)\n",
    "                segment.export(output_path, format=\"wav\")\n",
    "\n",
    "print(\"✅ Segmentation complete. Files saved in:\", output_folder)\n"
   ]
  },
  {
   "cell_type": "code",
   "execution_count": 2,
   "id": "760d070f",
   "metadata": {},
   "outputs": [
    {
     "name": "stdout",
     "output_type": "stream",
     "text": [
      "✅ Segmentation complete. Files saved in: D:/FYP\\Datasets\\Drone Datasets/Membo Bebop Audio_Segmented\n"
     ]
    }
   ],
   "source": [
    "import os\n",
    "from pydub import AudioSegment\n",
    "\n",
    "# Input and Output folders\n",
    "input_folder = r\"D:/FYP\\Datasets\\Drone Datasets/Membo Bebop Audio\"\n",
    "output_folder = r\"D:/FYP\\Datasets\\Drone Datasets/Membo Bebop Audio_Segmented\"\n",
    "\n",
    "# Create output folder if it doesn't exist\n",
    "os.makedirs(output_folder, exist_ok=True)\n",
    "\n",
    "# Loop through each file in the input folder\n",
    "for filename in os.listdir(input_folder):\n",
    "    if filename.endswith(\".wav\"):\n",
    "        file_path = os.path.join(input_folder, filename)\n",
    "        audio = AudioSegment.from_wav(file_path)\n",
    "\n",
    "        duration_ms = len(audio)  # duration in milliseconds\n",
    "\n",
    "        if duration_ms <= 1500:\n",
    "            # Save file as it is\n",
    "            output_path = os.path.join(output_folder, filename)\n",
    "            audio.export(output_path, format=\"wav\")\n",
    "        else:\n",
    "            # Segment into 1 sec (1000 ms) chunks\n",
    "            for i in range(0, duration_ms, 1000):\n",
    "                segment = audio[i:i+1000]  # take 1 second\n",
    "                segment_name = f\"{os.path.splitext(filename)[0]}_part{i//1000 + 1}.wav\"\n",
    "                output_path = os.path.join(output_folder, segment_name)\n",
    "                segment.export(output_path, format=\"wav\")\n",
    "\n",
    "print(\"✅ Segmentation complete. Files saved in:\", output_folder)\n"
   ]
  },
  {
   "cell_type": "code",
   "execution_count": 3,
   "id": "5f6bf21f",
   "metadata": {},
   "outputs": [
    {
     "name": "stdout",
     "output_type": "stream",
     "text": [
      "✅ Segmentation complete. Files saved in: D:/FYP\\Datasets\\Drone Datasets/NEAPTIDE Drone Audio_Segmented\n"
     ]
    }
   ],
   "source": [
    "import os\n",
    "from pydub import AudioSegment\n",
    "\n",
    "# Input and Output folders\n",
    "input_folder = r\"D:\\FYP\\Datasets\\Drone Datasets/NEAPTIDE Drone Audio\"\n",
    "output_folder = r\"D:/FYP\\Datasets\\Drone Datasets/NEAPTIDE Drone Audio_Segmented\"\n",
    "\n",
    "# Create output folder if it doesn't exist\n",
    "os.makedirs(output_folder, exist_ok=True)\n",
    "\n",
    "# Loop through each file in the input folder\n",
    "for filename in os.listdir(input_folder):\n",
    "    if filename.endswith(\".wav\"):\n",
    "        file_path = os.path.join(input_folder, filename)\n",
    "        audio = AudioSegment.from_wav(file_path)\n",
    "\n",
    "        duration_ms = len(audio)  # duration in milliseconds\n",
    "\n",
    "        if duration_ms <= 1500:\n",
    "            # Save file as it is\n",
    "            output_path = os.path.join(output_folder, filename)\n",
    "            audio.export(output_path, format=\"wav\")\n",
    "        else:\n",
    "            # Segment into 1 sec (1000 ms) chunks\n",
    "            for i in range(0, duration_ms, 1000):\n",
    "                segment = audio[i:i+1000]  # take 1 second\n",
    "                segment_name = f\"{os.path.splitext(filename)[0]}_part{i//1000 + 1}.wav\"\n",
    "                output_path = os.path.join(output_folder, segment_name)\n",
    "                segment.export(output_path, format=\"wav\")\n",
    "\n",
    "print(\"✅ Segmentation complete. Files saved in:\", output_folder)\n"
   ]
  },
  {
   "cell_type": "code",
   "execution_count": 6,
   "id": "76cb5b2f",
   "metadata": {},
   "outputs": [
    {
     "name": "stdout",
     "output_type": "stream",
     "text": [
      "✅ Segmentation done.\n"
     ]
    }
   ],
   "source": [
    "import os\n",
    "import librosa\n",
    "import soundfile as sf  # to save wavs\n",
    "# Input and Output folders\n",
    "input_folder = r\"D:\\FYP\\Datasets\\Drone Datasets\\Salford Uni Drone Audio\"\n",
    "output_folder = r\"D:/FYP\\Datasets\\Drone Datasets\\Salford Uni Drone Audio_Segmented\"\n",
    "\n",
    "os.makedirs(output_folder, exist_ok=True)\n",
    "\n",
    "SAMPLE_RATE = 16000\n",
    "SEGMENT_SEC = 1.0\n",
    "\n",
    "for fname in os.listdir(input_folder):\n",
    "    if not fname.endswith(\".wav\"):\n",
    "        continue\n",
    "\n",
    "    path = os.path.join(input_folder, fname)\n",
    "    signal, sr = librosa.load(path, sr=SAMPLE_RATE)\n",
    "\n",
    "    length = len(signal) / sr\n",
    "    if length <= SEGMENT_SEC:\n",
    "        sf.write(os.path.join(output_folder, fname), signal, sr)\n",
    "    else:\n",
    "        n_samples = int(SEGMENT_SEC * sr)\n",
    "        for i in range(0, len(signal), n_samples):\n",
    "            chunk = signal[i:i+n_samples]\n",
    "            if len(chunk) == 0:\n",
    "                continue\n",
    "            out_name = f\"{os.path.splitext(fname)[0]}_part{i//n_samples+1}.wav\"\n",
    "            sf.write(os.path.join(output_folder, out_name), chunk, sr)\n",
    "\n",
    "print(\"✅ Segmentation done.\")\n"
   ]
  },
  {
   "cell_type": "code",
   "execution_count": 1,
   "id": "9969d1a3",
   "metadata": {},
   "outputs": [
    {
     "name": "stdout",
     "output_type": "stream",
     "text": [
      "✅ Segmentation done.\n"
     ]
    }
   ],
   "source": [
    "import os\n",
    "import librosa\n",
    "import soundfile as sf  # to save wavs\n",
    "# Input and Output folders\n",
    "input_folder = r\"D:/FYP\\Datasets\\Drone Datasets/UAVirBase Extracted Drone Audio\"\n",
    "output_folder = r\"D:/FYP\\Datasets\\Drone Datasets/UAVirBase Extracted Drone Audio_Segmented\"\n",
    "\n",
    "os.makedirs(output_folder, exist_ok=True)\n",
    "\n",
    "SAMPLE_RATE = 16000\n",
    "SEGMENT_SEC = 1.0\n",
    "\n",
    "for fname in os.listdir(input_folder):\n",
    "    if not fname.endswith(\".wav\"):\n",
    "        continue\n",
    "\n",
    "    path = os.path.join(input_folder, fname)\n",
    "    signal, sr = librosa.load(path, sr=SAMPLE_RATE)\n",
    "\n",
    "    length = len(signal) / sr\n",
    "    if length <= SEGMENT_SEC:\n",
    "        sf.write(os.path.join(output_folder, fname), signal, sr)\n",
    "    else:\n",
    "        n_samples = int(SEGMENT_SEC * sr)\n",
    "        for i in range(0, len(signal), n_samples):\n",
    "            chunk = signal[i:i+n_samples]\n",
    "            if len(chunk) == 0:\n",
    "                continue\n",
    "            out_name = f\"{os.path.splitext(fname)[0]}_part{i//n_samples+1}.wav\"\n",
    "            sf.write(os.path.join(output_folder, out_name), chunk, sr)\n",
    "\n",
    "print(\"✅ Segmentation done.\")\n"
   ]
  }
 ],
 "metadata": {
  "kernelspec": {
   "display_name": "myenv",
   "language": "python",
   "name": "python3"
  },
  "language_info": {
   "codemirror_mode": {
    "name": "ipython",
    "version": 3
   },
   "file_extension": ".py",
   "mimetype": "text/x-python",
   "name": "python",
   "nbconvert_exporter": "python",
   "pygments_lexer": "ipython3",
   "version": "3.12.6"
  }
 },
 "nbformat": 4,
 "nbformat_minor": 5
}
