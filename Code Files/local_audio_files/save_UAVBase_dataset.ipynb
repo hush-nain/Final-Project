{
 "cells": [
  {
   "cell_type": "code",
   "execution_count": 1,
   "id": "45596eca",
   "metadata": {},
   "outputs": [],
   "source": [
    "# rename_and_collect_uavirbase.py\n",
    "import os\n",
    "import json\n",
    "import shutil\n",
    "import re\n",
    "from collections import defaultdict\n",
    "from pathlib import Path\n"
   ]
  },
  {
   "cell_type": "code",
   "execution_count": 2,
   "id": "490e95f8",
   "metadata": {},
   "outputs": [],
   "source": [
    "# ---------- CONFIGURE PATHS ----------\n",
    "SRC_ROOT = r\"D:\\FYP\\Datasets\\Drone Datasets\\UAVirBase Public Access Drone Audio\"\n",
    "OUT_DRONE = r\"D:\\FYP\\Datasets\\Drone Datasets\\UAVirBase Extracted Drone Audio\"\n",
    "OUT_NOISE = r\"D:\\FYP\\Datasets\\Drone Datasets\\UAVirBase Extracted Noise Audio\"\n",
    "# ------------------------------------"
   ]
  },
  {
   "cell_type": "code",
   "execution_count": 3,
   "id": "5992401e",
   "metadata": {},
   "outputs": [],
   "source": [
    "\n",
    "Path(OUT_DRONE).mkdir(parents=True, exist_ok=True)\n",
    "Path(OUT_NOISE).mkdir(parents=True, exist_ok=True)\n",
    "\n",
    "# Movement → 1-letter code (extend if needed)\n",
    "MOVEMENT_MAP = {\n",
    "    \"static\": \"S\",\n",
    "    \"hover\": \"H\",\n",
    "    \"forward\": \"F\",\n",
    "    \"backward\": \"B\",\n",
    "    \"left\": \"L\",\n",
    "    \"right\": \"R\",\n",
    "    \"circle\": \"C\",\n",
    "    \"rotation\": \"R\",  # if movement accidentally set to \"Rotation\"\n",
    "}"
   ]
  },
  {
   "cell_type": "code",
   "execution_count": 4,
   "id": "3689e3f6",
   "metadata": {},
   "outputs": [],
   "source": [
    "\n",
    "def movement_abbrev(m: str) -> str:\n",
    "    if not m:\n",
    "        return \"U\"  # Unknown\n",
    "    key = m.strip().lower()\n",
    "    return MOVEMENT_MAP.get(key, key[:1].upper() if key else \"U\")\n",
    "\n",
    "# Make filename-safe (Windows)\n",
    "def safe(text: str) -> str:\n",
    "    text = text.strip().replace(\" \", \"_\")\n",
    "    # keep letters, numbers, _, -, and .\n",
    "    return re.sub(r\"[^A-Za-z0-9_.-]\", \"\", text)\n",
    "\n",
    "# Try to find a dict in JSON that contains 'sound_source'\n",
    "def find_meta(d):\n",
    "    if isinstance(d, dict):\n",
    "        if \"sound_source\" in d:\n",
    "            return d\n",
    "        for v in d.values():\n",
    "            found = find_meta(v)\n",
    "            if found is not None:\n",
    "                return found\n",
    "    elif isinstance(d, list):\n",
    "        for v in d:\n",
    "            found = find_meta(v)\n",
    "            if found is not None:\n",
    "                return found\n",
    "    return None\n",
    "\n",
    "# Counters for non-drone sources\n",
    "noise_counters = defaultdict(int)\n",
    "\n",
    "processed = 0\n",
    "drone_count = 0\n",
    "noise_count = 0\n",
    "skipped = 0\n",
    "errors = 0"
   ]
  },
  {
   "cell_type": "code",
   "execution_count": 5,
   "id": "c9e9196e",
   "metadata": {},
   "outputs": [
    {
     "name": "stdout",
     "output_type": "stream",
     "text": [
      "\n",
      "==== Summary ====\n",
      "Processed folders : 132\n",
      " - Drone files    : 128  -> D:\\FYP\\Datasets\\Drone Datasets\\UAVirBase Extracted Drone Audio\n",
      " - No-drone files : 4  -> D:\\FYP\\Datasets\\Drone Datasets\\UAVirBase Extracted Noise Audio\n",
      "Skipped (missing) : 0\n",
      "Errors            : 0\n"
     ]
    }
   ],
   "source": [
    "# Iterate subfolders that contain output.wav + label.json\n",
    "for root, dirs, files in os.walk(SRC_ROOT):\n",
    "    if \"output.wav\" in files and \"label.json\" in files:\n",
    "        wav_path = os.path.join(root, \"output.wav\")\n",
    "        json_path = os.path.join(root, \"label.json\")\n",
    "        try:\n",
    "            with open(json_path, \"r\", encoding=\"utf-8\") as f:\n",
    "                data = json.load(f)\n",
    "            meta = find_meta(data) or {}\n",
    "            sound_source = (meta.get(\"sound_source\") or \"\").strip()\n",
    "\n",
    "            if not os.path.exists(wav_path):\n",
    "                skipped += 1\n",
    "                print(f\"⚠️  Skipping (no wav): {wav_path}\")\n",
    "                continue\n",
    "\n",
    "            if sound_source.lower() == \"drone\":\n",
    "                # Build drone filename\n",
    "                type_ = meta.get(\"type\", \"UnknownDrone\")\n",
    "                mv = movement_abbrev(meta.get(\"movement\", \"\"))\n",
    "                dist = safe(str(meta.get(\"distance\", \"NA\")))\n",
    "                height = safe(str(meta.get(\"height\", \"NA\")))\n",
    "                az = safe(str(meta.get(\"azimuth\", \"NA\")))\n",
    "\n",
    "                fname = f\"{safe(type_)}_{mv}_d{dist}_h{height}_a{az}.wav\"\n",
    "                dest = os.path.join(OUT_DRONE, fname)\n",
    "                shutil.copy2(wav_path, dest)\n",
    "                drone_count += 1\n",
    "            else:\n",
    "                # Non-drone: name + running index\n",
    "                base = safe(sound_source or \"UnknownSource\")\n",
    "                noise_counters[base] += 1\n",
    "                idx = noise_counters[base]\n",
    "                fname = f\"{base}_{idx}.wav\"\n",
    "                dest = os.path.join(OUT_NOISE, fname)\n",
    "                shutil.copy2(wav_path, dest)\n",
    "                noise_count += 1\n",
    "\n",
    "            processed += 1\n",
    "\n",
    "        except Exception as e:\n",
    "            errors += 1\n",
    "            print(f\"❌ Error in {root}: {e}\")\n",
    "\n",
    "print(\"\\n==== Summary ====\")\n",
    "print(f\"Processed folders : {processed}\")\n",
    "print(f\" - Drone files    : {drone_count}  -> {OUT_DRONE}\")\n",
    "print(f\" - No-drone files : {noise_count}  -> {OUT_NOISE}\")\n",
    "print(f\"Skipped (missing) : {skipped}\")\n",
    "print(f\"Errors            : {errors}\")\n"
   ]
  }
 ],
 "metadata": {
  "kernelspec": {
   "display_name": "myenv",
   "language": "python",
   "name": "python3"
  },
  "language_info": {
   "codemirror_mode": {
    "name": "ipython",
    "version": 3
   },
   "file_extension": ".py",
   "mimetype": "text/x-python",
   "name": "python",
   "nbconvert_exporter": "python",
   "pygments_lexer": "ipython3",
   "version": "3.12.6"
  }
 },
 "nbformat": 4,
 "nbformat_minor": 5
}
